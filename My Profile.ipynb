{
  "metadata": {
    "language_info": {
      "codemirror_mode": {
        "name": "python",
        "version": 3
      },
      "file_extension": ".py",
      "mimetype": "text/x-python",
      "name": "python",
      "nbconvert_exporter": "python",
      "pygments_lexer": "ipython3",
      "version": "3.8"
    },
    "kernelspec": {
      "name": "python",
      "display_name": "Pyolite",
      "language": "python"
    }
  },
  "nbformat_minor": 4,
  "nbformat": 4,
  "cells": [
    {
      "cell_type": "markdown",
      "source": "# My Jupyter Notebook on IBM Watson Studio",
      "metadata": {}
    },
    {
      "cell_type": "markdown",
      "source": "Name: __Chee Keong Wong__  \nCurrent Occupation: Investment Advisor\nDesired Occupation: Investment Data Scientist",
      "metadata": {}
    },
    {
      "cell_type": "markdown",
      "source": "_I am interested in data science because I can use this to analyze for portfolio performance, optimal asset allocation, portfolio construction, and many other uses to help investors to achieve investment objectives and manage risks._",
      "metadata": {}
    },
    {
      "cell_type": "markdown",
      "source": "My current age is caculated as below:",
      "metadata": {}
    },
    {
      "cell_type": "code",
      "source": "2022-1995",
      "metadata": {
        "trusted": true
      },
      "execution_count": 7,
      "outputs": [
        {
          "execution_count": 7,
          "output_type": "execute_result",
          "data": {
            "text/plain": "27"
          },
          "metadata": {}
        }
      ]
    },
    {
      "cell_type": "markdown",
      "source": "[My LinkedIn Profile](https://www.linkedin.com/in/chee-keong-wong/)  \n\n![](https://media-exp1.licdn.com/dms/image/C5603AQED5TVVvo352A/profile-displayphoto-shrink_400_400/0/1661325400633?e=1668643200&v=beta&t=z8GYlPlDUNNnMNIXoAGYIIcdnp1rIrmOmlUjTR6wic0)\n\nTop Skills:\n* investment advisory\n* multi-asset management\n* Data Science analysis\n\n> \"The greatest achievementwas, at first, and for a time, but a dream.\" - __Napoleon Hill__",
      "metadata": {}
    },
    {
      "cell_type": "code",
      "source": "",
      "metadata": {},
      "execution_count": null,
      "outputs": []
    }
  ]
}